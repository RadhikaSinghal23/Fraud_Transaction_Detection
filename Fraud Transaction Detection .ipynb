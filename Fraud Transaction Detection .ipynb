{
 "cells": [
  {
   "cell_type": "markdown",
   "id": "072ebe75",
   "metadata": {},
   "source": [
    "## Identifying Credit Card Fraud Transactions\n",
    "\n",
    "The dataset chosen is a split of train test data from the credit card transactions of a labeled dataset. The objective is to build a model to flag a fraud transaction in the future. This project realises the importance of data pre-processing, feature engineering, handling imabalnced classes through SMOTE, BOrderline SVM SMOTE and compare performance, apply classification models (Random Forest, Gradient Boost Trees), feature importance, hyper-parameter tuning through Bayesian Optimization with HYPEROPT, select appropriate evaluation metric (F1 score, AUC ROC, G-Mean)."
   ]
  },
  {
   "cell_type": "markdown",
   "id": "f031965c",
   "metadata": {},
   "source": [
    "##### The following assumptions are listed below which are made to keep the analysis: \n",
    "1. The dataset is a simulated version. The credit card numbers are assumed to be 10 characters long.\n",
    "2. street, zip and city name were found to be unique to the full name of the customer hence, only one column, out of the four is required \n",
    "3. There is one and only one person with a complete full name, that is each full name is unique and represents only one customer"
   ]
  },
  {
   "cell_type": "code",
   "execution_count": 1,
   "id": "c1b0a625",
   "metadata": {},
   "outputs": [],
   "source": [
    "import pandas as pd \n",
    "import numpy as np \n",
    "import os \n",
    "import warnings\n",
    "warnings.filterwarnings('ignore')\n",
    "import seaborn as sns\n",
    "import matplotlib.pyplot as plt \n",
    "%matplotlib inline"
   ]
  },
  {
   "cell_type": "code",
   "execution_count": 2,
   "id": "5d60bf51",
   "metadata": {},
   "outputs": [],
   "source": [
    "df = pd.read_csv(\".../fraudTrain.csv\")"
   ]
  },
  {
   "cell_type": "markdown",
   "id": "9ad12250",
   "metadata": {},
   "source": [
    "### Data Overview and Cleaning"
   ]
  },
  {
   "cell_type": "code",
   "execution_count": 3,
   "id": "e1b5a373",
   "metadata": {},
   "outputs": [
    {
     "name": "stdout",
     "output_type": "stream",
     "text": [
      "<class 'pandas.core.frame.DataFrame'>\n",
      "RangeIndex: 1048575 entries, 0 to 1048574\n",
      "Data columns (total 21 columns):\n",
      " #   Column                 Non-Null Count    Dtype  \n",
      "---  ------                 --------------    -----  \n",
      " 0   trans_date_trans_time  1048575 non-null  object \n",
      " 1   trans_time             1048575 non-null  object \n",
      " 2   cc_num                 1048575 non-null  int64  \n",
      " 3   merchant               1048575 non-null  object \n",
      " 4   category               1048575 non-null  object \n",
      " 5   amt                    1048575 non-null  float64\n",
      " 6   first                  1048575 non-null  object \n",
      " 7   last                   1048575 non-null  object \n",
      " 8   gender                 1048575 non-null  object \n",
      " 9   street                 1048575 non-null  object \n",
      " 10  city                   1048575 non-null  object \n",
      " 11  state                  1048575 non-null  object \n",
      " 12  zip                    1048575 non-null  int64  \n",
      " 13  city_pop               1048575 non-null  int64  \n",
      " 14  job                    1048575 non-null  object \n",
      " 15  dob                    1048575 non-null  object \n",
      " 16  trans_num              1048575 non-null  object \n",
      " 17  unix_time              1048575 non-null  int64  \n",
      " 18  extracted_time         1048575 non-null  object \n",
      " 19  duration_trans         1048575 non-null  object \n",
      " 20  is_fraud               1048575 non-null  int64  \n",
      "dtypes: float64(1), int64(5), object(15)\n",
      "memory usage: 168.0+ MB\n"
     ]
    }
   ],
   "source": [
    "df.info()"
   ]
  },
  {
   "cell_type": "code",
   "execution_count": 4,
   "id": "f4ccd2fa",
   "metadata": {},
   "outputs": [
    {
     "data": {
      "text/html": [
       "<div>\n",
       "<style scoped>\n",
       "    .dataframe tbody tr th:only-of-type {\n",
       "        vertical-align: middle;\n",
       "    }\n",
       "\n",
       "    .dataframe tbody tr th {\n",
       "        vertical-align: top;\n",
       "    }\n",
       "\n",
       "    .dataframe thead th {\n",
       "        text-align: right;\n",
       "    }\n",
       "</style>\n",
       "<table border=\"1\" class=\"dataframe\">\n",
       "  <thead>\n",
       "    <tr style=\"text-align: right;\">\n",
       "      <th></th>\n",
       "      <th>trans_date_trans_time</th>\n",
       "      <th>trans_time</th>\n",
       "      <th>cc_num</th>\n",
       "      <th>merchant</th>\n",
       "      <th>category</th>\n",
       "      <th>amt</th>\n",
       "      <th>first</th>\n",
       "      <th>last</th>\n",
       "      <th>gender</th>\n",
       "      <th>street</th>\n",
       "      <th>...</th>\n",
       "      <th>state</th>\n",
       "      <th>zip</th>\n",
       "      <th>city_pop</th>\n",
       "      <th>job</th>\n",
       "      <th>dob</th>\n",
       "      <th>trans_num</th>\n",
       "      <th>unix_time</th>\n",
       "      <th>extracted_time</th>\n",
       "      <th>duration_trans</th>\n",
       "      <th>is_fraud</th>\n",
       "    </tr>\n",
       "  </thead>\n",
       "  <tbody>\n",
       "    <tr>\n",
       "      <th>0</th>\n",
       "      <td>01-01-2019</td>\n",
       "      <td>00:00:00</td>\n",
       "      <td>270000000</td>\n",
       "      <td>fraud_Rippin, Kub and Mann</td>\n",
       "      <td>misc_net</td>\n",
       "      <td>4.97</td>\n",
       "      <td>Jennifer</td>\n",
       "      <td>Banks</td>\n",
       "      <td>F</td>\n",
       "      <td>561 Perry Cove</td>\n",
       "      <td>...</td>\n",
       "      <td>NC</td>\n",
       "      <td>28654</td>\n",
       "      <td>3495</td>\n",
       "      <td>Psychologist, counselling</td>\n",
       "      <td>09-03-1988</td>\n",
       "      <td>0b242abb623afc578575680df30655b9</td>\n",
       "      <td>1325376018</td>\n",
       "      <td>00:18</td>\n",
       "      <td>00:00:18</td>\n",
       "      <td>0</td>\n",
       "    </tr>\n",
       "    <tr>\n",
       "      <th>1</th>\n",
       "      <td>01-01-2019</td>\n",
       "      <td>00:00:00</td>\n",
       "      <td>630000000</td>\n",
       "      <td>fraud_Heller, Gutmann and Zieme</td>\n",
       "      <td>grocery_pos</td>\n",
       "      <td>107.23</td>\n",
       "      <td>Stephanie</td>\n",
       "      <td>Gill</td>\n",
       "      <td>F</td>\n",
       "      <td>43039 Riley Greens Suite 393</td>\n",
       "      <td>...</td>\n",
       "      <td>WA</td>\n",
       "      <td>99160</td>\n",
       "      <td>149</td>\n",
       "      <td>Special educational needs teacher</td>\n",
       "      <td>21-06-1978</td>\n",
       "      <td>1f76529f8574734946361c461b024d99</td>\n",
       "      <td>1325376044</td>\n",
       "      <td>00:44</td>\n",
       "      <td>00:00:44</td>\n",
       "      <td>0</td>\n",
       "    </tr>\n",
       "    <tr>\n",
       "      <th>2</th>\n",
       "      <td>01-01-2019</td>\n",
       "      <td>00:00:00</td>\n",
       "      <td>389000000</td>\n",
       "      <td>fraud_Lind-Buckridge</td>\n",
       "      <td>entertainment</td>\n",
       "      <td>220.11</td>\n",
       "      <td>Edward</td>\n",
       "      <td>Sanchez</td>\n",
       "      <td>M</td>\n",
       "      <td>594 White Dale Suite 530</td>\n",
       "      <td>...</td>\n",
       "      <td>ID</td>\n",
       "      <td>83252</td>\n",
       "      <td>4154</td>\n",
       "      <td>Nature conservation officer</td>\n",
       "      <td>19-01-1962</td>\n",
       "      <td>a1a22d70485983eac12b5b88dad1cf95</td>\n",
       "      <td>1325376051</td>\n",
       "      <td>00:51</td>\n",
       "      <td>00:00:51</td>\n",
       "      <td>0</td>\n",
       "    </tr>\n",
       "    <tr>\n",
       "      <th>3</th>\n",
       "      <td>01-01-2019</td>\n",
       "      <td>00:01:00</td>\n",
       "      <td>353000000</td>\n",
       "      <td>fraud_Kutch, Hermiston and Farrell</td>\n",
       "      <td>gas_transport</td>\n",
       "      <td>45.00</td>\n",
       "      <td>Jeremy</td>\n",
       "      <td>White</td>\n",
       "      <td>M</td>\n",
       "      <td>9443 Cynthia Court Apt. 038</td>\n",
       "      <td>...</td>\n",
       "      <td>MT</td>\n",
       "      <td>59632</td>\n",
       "      <td>1939</td>\n",
       "      <td>Patent attorney</td>\n",
       "      <td>12-01-1967</td>\n",
       "      <td>6b849c168bdad6f867558c3793159a81</td>\n",
       "      <td>1325376076</td>\n",
       "      <td>01:16</td>\n",
       "      <td>00:00:16</td>\n",
       "      <td>0</td>\n",
       "    </tr>\n",
       "    <tr>\n",
       "      <th>4</th>\n",
       "      <td>01-01-2019</td>\n",
       "      <td>00:03:00</td>\n",
       "      <td>376000000</td>\n",
       "      <td>fraud_Keeling-Crist</td>\n",
       "      <td>misc_pos</td>\n",
       "      <td>41.96</td>\n",
       "      <td>Tyler</td>\n",
       "      <td>Garcia</td>\n",
       "      <td>M</td>\n",
       "      <td>408 Bradley Rest</td>\n",
       "      <td>...</td>\n",
       "      <td>VA</td>\n",
       "      <td>24433</td>\n",
       "      <td>99</td>\n",
       "      <td>Dance movement psychotherapist</td>\n",
       "      <td>28-03-1986</td>\n",
       "      <td>a41d7549acf90789359a9aa5346dcb46</td>\n",
       "      <td>1325376186</td>\n",
       "      <td>03:06</td>\n",
       "      <td>00:00:06</td>\n",
       "      <td>0</td>\n",
       "    </tr>\n",
       "  </tbody>\n",
       "</table>\n",
       "<p>5 rows × 21 columns</p>\n",
       "</div>"
      ],
      "text/plain": [
       "  trans_date_trans_time trans_time     cc_num  \\\n",
       "0            01-01-2019   00:00:00  270000000   \n",
       "1            01-01-2019   00:00:00  630000000   \n",
       "2            01-01-2019   00:00:00  389000000   \n",
       "3            01-01-2019   00:01:00  353000000   \n",
       "4            01-01-2019   00:03:00  376000000   \n",
       "\n",
       "                             merchant       category     amt      first  \\\n",
       "0          fraud_Rippin, Kub and Mann       misc_net    4.97   Jennifer   \n",
       "1     fraud_Heller, Gutmann and Zieme    grocery_pos  107.23  Stephanie   \n",
       "2                fraud_Lind-Buckridge  entertainment  220.11     Edward   \n",
       "3  fraud_Kutch, Hermiston and Farrell  gas_transport   45.00     Jeremy   \n",
       "4                 fraud_Keeling-Crist       misc_pos   41.96      Tyler   \n",
       "\n",
       "      last gender                        street  ... state    zip  city_pop  \\\n",
       "0    Banks      F                561 Perry Cove  ...    NC  28654      3495   \n",
       "1     Gill      F  43039 Riley Greens Suite 393  ...    WA  99160       149   \n",
       "2  Sanchez      M      594 White Dale Suite 530  ...    ID  83252      4154   \n",
       "3    White      M   9443 Cynthia Court Apt. 038  ...    MT  59632      1939   \n",
       "4   Garcia      M              408 Bradley Rest  ...    VA  24433        99   \n",
       "\n",
       "                                 job         dob  \\\n",
       "0          Psychologist, counselling  09-03-1988   \n",
       "1  Special educational needs teacher  21-06-1978   \n",
       "2        Nature conservation officer  19-01-1962   \n",
       "3                    Patent attorney  12-01-1967   \n",
       "4     Dance movement psychotherapist  28-03-1986   \n",
       "\n",
       "                          trans_num   unix_time  extracted_time  \\\n",
       "0  0b242abb623afc578575680df30655b9  1325376018           00:18   \n",
       "1  1f76529f8574734946361c461b024d99  1325376044           00:44   \n",
       "2  a1a22d70485983eac12b5b88dad1cf95  1325376051           00:51   \n",
       "3  6b849c168bdad6f867558c3793159a81  1325376076           01:16   \n",
       "4  a41d7549acf90789359a9aa5346dcb46  1325376186           03:06   \n",
       "\n",
       "  duration_trans is_fraud  \n",
       "0       00:00:18        0  \n",
       "1       00:00:44        0  \n",
       "2       00:00:51        0  \n",
       "3       00:00:16        0  \n",
       "4       00:00:06        0  \n",
       "\n",
       "[5 rows x 21 columns]"
      ]
     },
     "execution_count": 4,
     "metadata": {},
     "output_type": "execute_result"
    }
   ],
   "source": [
    "df.head()"
   ]
  },
  {
   "cell_type": "code",
   "execution_count": 5,
   "id": "8a774507",
   "metadata": {},
   "outputs": [
    {
     "name": "stdout",
     "output_type": "stream",
     "text": [
      "0             Jennifer_Banks\n",
      "1             Stephanie_Gill\n",
      "2             Edward_Sanchez\n",
      "3               Jeremy_White\n",
      "4               Tyler_Garcia\n",
      "                 ...        \n",
      "1048570         Haley_Wagner\n",
      "1048571    Meredith_Campbell\n",
      "1048572          Susan_Mills\n",
      "1048573           Julia_Bell\n",
      "1048574     Shannon_Williams\n",
      "Name: full_name, Length: 1048575, dtype: object\n"
     ]
    }
   ],
   "source": [
    "#concatenating column 'first' and 'last' to create a new column 'full name'\n",
    "df['full_name']= df['first']+'_'+df['last']\n",
    "print(df['full_name'])"
   ]
  },
  {
   "cell_type": "code",
   "execution_count": 6,
   "id": "1e812c6c",
   "metadata": {},
   "outputs": [
    {
     "data": {
      "text/plain": [
       "full_name        956\n",
       "zip              952\n",
       "state             51\n",
       "city             879\n",
       "street           965\n",
       "trans_num    1048575\n",
       "dtype: int64"
      ]
     },
     "execution_count": 6,
     "metadata": {},
     "output_type": "execute_result"
    }
   ],
   "source": [
    "#it can be observed that the doesnt have any null values. #finding out the unique values for the columns\n",
    "df[['full_name','zip','state','city','street','trans_num']].nunique()"
   ]
  },
  {
   "cell_type": "code",
   "execution_count": 7,
   "id": "b87ceb28",
   "metadata": {
    "scrolled": true
   },
   "outputs": [],
   "source": [
    "#dropping columns that are unnecessary\n",
    "df = df.drop(['street','city','zip','city_pop','unix_time','extracted_time','first','last'], axis=1)"
   ]
  },
  {
   "cell_type": "code",
   "execution_count": 8,
   "id": "e61fbf53",
   "metadata": {},
   "outputs": [
    {
     "data": {
      "text/plain": [
       "(1048575, 14)"
      ]
     },
     "execution_count": 8,
     "metadata": {},
     "output_type": "execute_result"
    }
   ],
   "source": [
    "#dropping any duplicates in case\n",
    "df.drop_duplicates(inplace=True)\n",
    "df.shape"
   ]
  },
  {
   "cell_type": "markdown",
   "id": "e1e5941d",
   "metadata": {},
   "source": [
    "No duplicates were found in the dataset"
   ]
  },
  {
   "cell_type": "code",
   "execution_count": 9,
   "id": "ea9ba38b",
   "metadata": {},
   "outputs": [],
   "source": [
    "#converting necessary columns to datetime\n",
    "from datetime import datetime\n",
    "df['trans_date_trans_time'] = pd.to_datetime(df['trans_date_trans_time'])\n",
    "df.rename({'trans_date_trans_time':'transaction_date'},  axis=1, inplace = True)\n",
    "df['dob'] = pd.to_datetime(df['dob'])"
   ]
  },
  {
   "cell_type": "code",
   "execution_count": 10,
   "id": "485aa342",
   "metadata": {},
   "outputs": [
    {
     "name": "stdout",
     "output_type": "stream",
     "text": [
      "0          31.0\n",
      "1          41.0\n",
      "2          57.0\n",
      "3          52.0\n",
      "4          33.0\n",
      "           ... \n",
      "1048570    76.0\n",
      "1048571    20.0\n",
      "1048572    67.0\n",
      "1048573    29.0\n",
      "1048574    22.0\n",
      "Name: age, Length: 1048575, dtype: float64\n"
     ]
    }
   ],
   "source": [
    "#creating an age column with reference to 2020\n",
    "now = pd.to_datetime('2020-01-01')\n",
    "df['dob'] = df['dob'].where(df['dob'] < now, df['dob'] -  np.timedelta64(100, 'Y'))\n",
    "df['age'] = (now - df['dob']).astype('<m8[Y]') \n",
    "df = df.drop(['dob'],axis=1)\n",
    "print(df['age'])"
   ]
  },
  {
   "cell_type": "markdown",
   "id": "29f62082",
   "metadata": {},
   "source": [
    "feature scaling for numeric variable: check if min max is closer, then scale "
   ]
  },
  {
   "cell_type": "markdown",
   "id": "7d6dad75",
   "metadata": {},
   "source": [
    "### Exploratory Data Analysis"
   ]
  },
  {
   "cell_type": "code",
   "execution_count": 11,
   "id": "c7b8fdb2",
   "metadata": {},
   "outputs": [
    {
     "name": "stdout",
     "output_type": "stream",
     "text": [
      "0    1042569\n",
      "1       6006\n",
      "Name: is_fraud, dtype: int64\n"
     ]
    }
   ],
   "source": [
    "#checking the number of fraud labels\n",
    "fraud_perc = df['is_fraud'].value_counts()\n",
    "print(fraud_perc)"
   ]
  },
  {
   "cell_type": "markdown",
   "id": "d6bb240a",
   "metadata": {},
   "source": [
    "the class is highly imbalanced "
   ]
  },
  {
   "cell_type": "code",
   "execution_count": 12,
   "id": "c9d83995",
   "metadata": {},
   "outputs": [
    {
     "data": {
      "image/png": "[encoded data removed]",
      "text/plain": [
       "<Figure size 864x648 with 2 Axes>"
      ]
     },
     "metadata": {
      "needs_background": "light"
     },
     "output_type": "display_data"
    }
   ],
   "source": [
    "#plotting correlation matrix with features to check their importance\n",
    "cor = df.corr()\n",
    "fig = plt.figure(figsize = (12, 9))\n",
    "sns.heatmap(cor, vmax = .8, square = True)\n",
    "plt.show()"
   ]
  },
  {
   "cell_type": "markdown",
   "id": "5b3cdd5f",
   "metadata": {},
   "source": [
    "The relationship of amount and fraud label is much higher"
   ]
  },
  {
   "cell_type": "code",
   "execution_count": 13,
   "id": "1ca8a4a9",
   "metadata": {
    "scrolled": true
   },
   "outputs": [],
   "source": [
    "#checking the number of fraud labels\n",
    "fraud = df[df['is_fraud'] == 1]\n",
    "valid = df[df['is_fraud'] == 0]"
   ]
  },
  {
   "cell_type": "code",
   "execution_count": 14,
   "id": "a72dece1",
   "metadata": {},
   "outputs": [
    {
     "data": {
      "text/plain": [
       "count    6006.000000\n",
       "mean      530.573492\n",
       "std       391.333069\n",
       "min         1.180000\n",
       "25%       241.577500\n",
       "50%       391.165000\n",
       "75%       901.950000\n",
       "max      1371.810000\n",
       "Name: amt, dtype: float64"
      ]
     },
     "execution_count": 14,
     "metadata": {},
     "output_type": "execute_result"
    }
   ],
   "source": [
    "#checking fraud and amt\n",
    "fraud.amt.describe()"
   ]
  },
  {
   "cell_type": "code",
   "execution_count": 15,
   "id": "89d28887",
   "metadata": {},
   "outputs": [
    {
     "data": {
      "text/plain": [
       "count    1.042569e+06\n",
       "mean     6.762744e+01\n",
       "std      1.536956e+02\n",
       "min      1.000000e+00\n",
       "25%      9.600000e+00\n",
       "50%      4.722000e+01\n",
       "75%      8.247000e+01\n",
       "max      2.894890e+04\n",
       "Name: amt, dtype: float64"
      ]
     },
     "execution_count": 15,
     "metadata": {},
     "output_type": "execute_result"
    }
   ],
   "source": [
    "#checking valid and amt\n",
    "valid.amt.describe()"
   ]
  },
  {
   "cell_type": "markdown",
   "id": "af63aa0b",
   "metadata": {},
   "source": [
    "#other gradient decent based algos and distance based (KNN, KMeans, SVM) can also be applied but would also require feature scaling ** "
   ]
  },
  {
   "cell_type": "markdown",
   "id": "1259b79e",
   "metadata": {},
   "source": [
    "### Data Cleaning"
   ]
  },
  {
   "cell_type": "code",
   "execution_count": 16,
   "id": "dc6d2b6b",
   "metadata": {},
   "outputs": [
    {
     "data": {
      "text/html": [
       "<div>\n",
       "<style scoped>\n",
       "    .dataframe tbody tr th:only-of-type {\n",
       "        vertical-align: middle;\n",
       "    }\n",
       "\n",
       "    .dataframe tbody tr th {\n",
       "        vertical-align: top;\n",
       "    }\n",
       "\n",
       "    .dataframe thead th {\n",
       "        text-align: right;\n",
       "    }\n",
       "</style>\n",
       "<table border=\"1\" class=\"dataframe\">\n",
       "  <thead>\n",
       "    <tr style=\"text-align: right;\">\n",
       "      <th></th>\n",
       "      <th>transaction_date</th>\n",
       "      <th>trans_time</th>\n",
       "      <th>cc_num</th>\n",
       "      <th>merchant</th>\n",
       "      <th>category</th>\n",
       "      <th>amt</th>\n",
       "      <th>gender</th>\n",
       "      <th>state</th>\n",
       "      <th>job</th>\n",
       "      <th>trans_num</th>\n",
       "      <th>duration_trans</th>\n",
       "      <th>is_fraud</th>\n",
       "      <th>full_name</th>\n",
       "      <th>age</th>\n",
       "    </tr>\n",
       "  </thead>\n",
       "  <tbody>\n",
       "    <tr>\n",
       "      <th>0</th>\n",
       "      <td>0</td>\n",
       "      <td>0</td>\n",
       "      <td>22</td>\n",
       "      <td>514</td>\n",
       "      <td>8</td>\n",
       "      <td>397</td>\n",
       "      <td>0</td>\n",
       "      <td>27</td>\n",
       "      <td>370</td>\n",
       "      <td>45701</td>\n",
       "      <td>18</td>\n",
       "      <td>0</td>\n",
       "      <td>409</td>\n",
       "      <td>16</td>\n",
       "    </tr>\n",
       "    <tr>\n",
       "      <th>1</th>\n",
       "      <td>0</td>\n",
       "      <td>0</td>\n",
       "      <td>215</td>\n",
       "      <td>241</td>\n",
       "      <td>4</td>\n",
       "      <td>10623</td>\n",
       "      <td>0</td>\n",
       "      <td>47</td>\n",
       "      <td>428</td>\n",
       "      <td>128847</td>\n",
       "      <td>44</td>\n",
       "      <td>0</td>\n",
       "      <td>852</td>\n",
       "      <td>26</td>\n",
       "    </tr>\n",
       "    <tr>\n",
       "      <th>2</th>\n",
       "      <td>0</td>\n",
       "      <td>0</td>\n",
       "      <td>77</td>\n",
       "      <td>390</td>\n",
       "      <td>0</td>\n",
       "      <td>21891</td>\n",
       "      <td>1</td>\n",
       "      <td>13</td>\n",
       "      <td>307</td>\n",
       "      <td>662104</td>\n",
       "      <td>51</td>\n",
       "      <td>0</td>\n",
       "      <td>293</td>\n",
       "      <td>42</td>\n",
       "    </tr>\n",
       "    <tr>\n",
       "      <th>3</th>\n",
       "      <td>0</td>\n",
       "      <td>1</td>\n",
       "      <td>45</td>\n",
       "      <td>360</td>\n",
       "      <td>2</td>\n",
       "      <td>4400</td>\n",
       "      <td>1</td>\n",
       "      <td>26</td>\n",
       "      <td>328</td>\n",
       "      <td>440259</td>\n",
       "      <td>16</td>\n",
       "      <td>0</td>\n",
       "      <td>428</td>\n",
       "      <td>37</td>\n",
       "    </tr>\n",
       "    <tr>\n",
       "      <th>4</th>\n",
       "      <td>0</td>\n",
       "      <td>3</td>\n",
       "      <td>66</td>\n",
       "      <td>297</td>\n",
       "      <td>9</td>\n",
       "      <td>4096</td>\n",
       "      <td>1</td>\n",
       "      <td>45</td>\n",
       "      <td>116</td>\n",
       "      <td>672104</td>\n",
       "      <td>6</td>\n",
       "      <td>0</td>\n",
       "      <td>917</td>\n",
       "      <td>18</td>\n",
       "    </tr>\n",
       "    <tr>\n",
       "      <th>...</th>\n",
       "      <td>...</td>\n",
       "      <td>...</td>\n",
       "      <td>...</td>\n",
       "      <td>...</td>\n",
       "      <td>...</td>\n",
       "      <td>...</td>\n",
       "      <td>...</td>\n",
       "      <td>...</td>\n",
       "      <td>...</td>\n",
       "      <td>...</td>\n",
       "      <td>...</td>\n",
       "      <td>...</td>\n",
       "      <td>...</td>\n",
       "      <td>...</td>\n",
       "    </tr>\n",
       "    <tr>\n",
       "      <th>1048570</th>\n",
       "      <td>429</td>\n",
       "      <td>967</td>\n",
       "      <td>207</td>\n",
       "      <td>166</td>\n",
       "      <td>5</td>\n",
       "      <td>7600</td>\n",
       "      <td>0</td>\n",
       "      <td>20</td>\n",
       "      <td>2</td>\n",
       "      <td>286294</td>\n",
       "      <td>29</td>\n",
       "      <td>0</td>\n",
       "      <td>343</td>\n",
       "      <td>61</td>\n",
       "    </tr>\n",
       "    <tr>\n",
       "      <th>1048571</th>\n",
       "      <td>429</td>\n",
       "      <td>967</td>\n",
       "      <td>160</td>\n",
       "      <td>110</td>\n",
       "      <td>9</td>\n",
       "      <td>11594</td>\n",
       "      <td>0</td>\n",
       "      <td>12</td>\n",
       "      <td>211</td>\n",
       "      <td>786716</td>\n",
       "      <td>50</td>\n",
       "      <td>0</td>\n",
       "      <td>666</td>\n",
       "      <td>5</td>\n",
       "    </tr>\n",
       "    <tr>\n",
       "      <th>1048572</th>\n",
       "      <td>429</td>\n",
       "      <td>968</td>\n",
       "      <td>199</td>\n",
       "      <td>456</td>\n",
       "      <td>6</td>\n",
       "      <td>2027</td>\n",
       "      <td>0</td>\n",
       "      <td>17</td>\n",
       "      <td>175</td>\n",
       "      <td>97489</td>\n",
       "      <td>31</td>\n",
       "      <td>0</td>\n",
       "      <td>871</td>\n",
       "      <td>52</td>\n",
       "    </tr>\n",
       "    <tr>\n",
       "      <th>1048573</th>\n",
       "      <td>429</td>\n",
       "      <td>968</td>\n",
       "      <td>141</td>\n",
       "      <td>620</td>\n",
       "      <td>5</td>\n",
       "      <td>852</td>\n",
       "      <td>0</td>\n",
       "      <td>34</td>\n",
       "      <td>193</td>\n",
       "      <td>379398</td>\n",
       "      <td>38</td>\n",
       "      <td>0</td>\n",
       "      <td>495</td>\n",
       "      <td>14</td>\n",
       "    </tr>\n",
       "    <tr>\n",
       "      <th>1048574</th>\n",
       "      <td>429</td>\n",
       "      <td>968</td>\n",
       "      <td>8</td>\n",
       "      <td>83</td>\n",
       "      <td>9</td>\n",
       "      <td>581</td>\n",
       "      <td>0</td>\n",
       "      <td>10</td>\n",
       "      <td>351</td>\n",
       "      <td>577841</td>\n",
       "      <td>50</td>\n",
       "      <td>0</td>\n",
       "      <td>832</td>\n",
       "      <td>7</td>\n",
       "    </tr>\n",
       "  </tbody>\n",
       "</table>\n",
       "<p>1048575 rows × 14 columns</p>\n",
       "</div>"
      ],
      "text/plain": [
       "         transaction_date  trans_time  cc_num  merchant  category    amt  \\\n",
       "0                       0           0      22       514         8    397   \n",
       "1                       0           0     215       241         4  10623   \n",
       "2                       0           0      77       390         0  21891   \n",
       "3                       0           1      45       360         2   4400   \n",
       "4                       0           3      66       297         9   4096   \n",
       "...                   ...         ...     ...       ...       ...    ...   \n",
       "1048570               429         967     207       166         5   7600   \n",
       "1048571               429         967     160       110         9  11594   \n",
       "1048572               429         968     199       456         6   2027   \n",
       "1048573               429         968     141       620         5    852   \n",
       "1048574               429         968       8        83         9    581   \n",
       "\n",
       "         gender  state  job  trans_num  duration_trans  is_fraud  full_name  \\\n",
       "0             0     27  370      45701              18         0        409   \n",
       "1             0     47  428     128847              44         0        852   \n",
       "2             1     13  307     662104              51         0        293   \n",
       "3             1     26  328     440259              16         0        428   \n",
       "4             1     45  116     672104               6         0        917   \n",
       "...         ...    ...  ...        ...             ...       ...        ...   \n",
       "1048570       0     20    2     286294              29         0        343   \n",
       "1048571       0     12  211     786716              50         0        666   \n",
       "1048572       0     17  175      97489              31         0        871   \n",
       "1048573       0     34  193     379398              38         0        495   \n",
       "1048574       0     10  351     577841              50         0        832   \n",
       "\n",
       "         age  \n",
       "0         16  \n",
       "1         26  \n",
       "2         42  \n",
       "3         37  \n",
       "4         18  \n",
       "...      ...  \n",
       "1048570   61  \n",
       "1048571    5  \n",
       "1048572   52  \n",
       "1048573   14  \n",
       "1048574    7  \n",
       "\n",
       "[1048575 rows x 14 columns]"
      ]
     },
     "execution_count": 16,
     "metadata": {},
     "output_type": "execute_result"
    }
   ],
   "source": [
    "# Import label encoder \n",
    "from sklearn.preprocessing import LabelEncoder\n",
    "# Encode labels\n",
    "df = df.apply(LabelEncoder().fit_transform)\n",
    "df"
   ]
  },
  {
   "cell_type": "markdown",
   "id": "1d1272a1",
   "metadata": {},
   "source": [
    "### Train Test Split \n",
    "    "
   ]
  },
  {
   "cell_type": "code",
   "execution_count": 17,
   "id": "368acfb3",
   "metadata": {},
   "outputs": [],
   "source": [
    "from sklearn.model_selection import train_test_split\n",
    "X = df.drop(['is_fraud'], axis = 1)\n",
    "y = df['is_fraud']\n",
    "X_train, X_test, y_train, y_test = train_test_split(X,y,test_size=0.30)"
   ]
  },
  {
   "cell_type": "markdown",
   "id": "cff77a64",
   "metadata": {},
   "source": [
    "### Handing Imbalanced Classes"
   ]
  },
  {
   "cell_type": "markdown",
   "id": "19f6de49",
   "metadata": {},
   "source": [
    "#### SMOTE"
   ]
  },
  {
   "cell_type": "code",
   "execution_count": 18,
   "id": "b908f303",
   "metadata": {},
   "outputs": [
    {
     "name": "stdout",
     "output_type": "stream",
     "text": [
      "Counter({0: 729810, 1: 4192})\n",
      "Counter({0: 729810, 1: 729810})\n"
     ]
    }
   ],
   "source": [
    "#Performing SMOTE\n",
    "from collections import Counter\n",
    "from imblearn.over_sampling import SMOTE\n",
    "import warnings\n",
    "warnings.simplefilter(action='ignore', category=FutureWarning)\n",
    "\n",
    "# summarize class distribution\n",
    "print(Counter(y_train))\n",
    "\n",
    "# define undersample strategy\n",
    "SMOTE = SMOTE()\n",
    "\n",
    "# fit and apply the transform\n",
    "X_train_SMOTE, y_train_SMOTE = SMOTE.fit_resample(X_train, y_train)\n",
    "\n",
    "# summarize class distribution\n",
    "print(Counter(y_train_SMOTE))"
   ]
  },
  {
   "cell_type": "markdown",
   "id": "228db142",
   "metadata": {},
   "source": [
    "#### Borderline SVM SMOTE"
   ]
  },
  {
   "cell_type": "code",
   "execution_count": 19,
   "id": "997f7f19",
   "metadata": {},
   "outputs": [
    {
     "name": "stdout",
     "output_type": "stream",
     "text": [
      "Counter({0: 729794, 1: 4208})\n",
      "Counter({0: 729794, 1: 729794})\n"
     ]
    }
   ],
   "source": [
    "from imblearn.over_sampling import SVMSMOTE\n",
    "# summarize class distribution\n",
    "print(Counter(y_train))\n",
    "sm = SVMSMOTE()\n",
    "# fit and apply the transform\n",
    "X_train_sm, y_train_sm = sm.fit_resample(X_train, y_train)\n",
    "\n",
    "# summarize class distribution\n",
    "print(Counter(y_train_sm))"
   ]
  },
  {
   "cell_type": "markdown",
   "id": "16fd112d",
   "metadata": {},
   "source": [
    "#### ADAYSN"
   ]
  },
  {
   "cell_type": "code",
   "execution_count": 20,
   "id": "f612a131",
   "metadata": {},
   "outputs": [
    {
     "name": "stdout",
     "output_type": "stream",
     "text": [
      "Counter({0: 729794, 1: 4208})\n",
      "Counter({0: 729794, 1: 729391})\n"
     ]
    }
   ],
   "source": [
    "from imblearn.over_sampling import ADASYN\n",
    "\n",
    "# summarize class distribution\n",
    "print(Counter(y_train))\n",
    "ad = ADASYN()\n",
    "# fit and apply the transform\n",
    "X_train_ad, y_train_ad = ad.fit_resample(X_train, y_train)\n",
    "\n",
    "# summarize class distribution\n",
    "print(Counter(y_train_ad))"
   ]
  },
  {
   "cell_type": "markdown",
   "id": "4cdc9dd4",
   "metadata": {},
   "source": [
    "the best performing method out of the three can be chosen while evaluating performance"
   ]
  },
  {
   "cell_type": "markdown",
   "id": "941cafcb",
   "metadata": {},
   "source": [
    "## Fitting into the model "
   ]
  },
  {
   "cell_type": "markdown",
   "id": "f6674abd",
   "metadata": {},
   "source": [
    "#### Random Forest (SMOTE)"
   ]
  },
  {
   "cell_type": "code",
   "execution_count": 19,
   "id": "d83d01b5",
   "metadata": {},
   "outputs": [
    {
     "name": "stdout",
     "output_type": "stream",
     "text": [
      "Classification report for oversampled SMOTE data:                precision    recall  f1-score   support\n",
      "\n",
      "           0       1.00      1.00      1.00    312759\n",
      "           1       0.64      0.81      0.72      1814\n",
      "\n",
      "    accuracy                           1.00    314573\n",
      "   macro avg       0.82      0.90      0.86    314573\n",
      "weighted avg       1.00      1.00      1.00    314573\n",
      "\n",
      "ROC AUC score for oversampled SMOTE data:  0.902510420532151\n",
      "ROC AUC score for (baseline) data:  0.8590823043832605\n"
     ]
    }
   ],
   "source": [
    "from sklearn.ensemble import RandomForestClassifier\n",
    "from sklearn.metrics import classification_report\n",
    "from sklearn.metrics import classification_report, roc_auc_score, f1_score\n",
    "\n",
    "#defing the model \n",
    "model= RandomForestClassifier()\n",
    "\n",
    "#using SMOTE for fitting\n",
    "clf_SMOTE = model.fit(X_train_SMOTE, y_train_SMOTE)\n",
    "pred_SMOTE = clf_SMOTE.predict(X_test)\n",
    "\n",
    "#baseline dataset for fitting\n",
    "clf = model.fit(X_train, y_train)\n",
    "pred= clf.predict(X_test)\n",
    "\n",
    "print(\"Classification report for oversampled SMOTE data: \", classification_report(y_test, pred_SMOTE))\n",
    "print(\"ROC AUC score for oversampled SMOTE data: \", roc_auc_score(y_test, pred_SMOTE))\n",
    "print(\"ROC AUC score for (baseline) data: \", roc_auc_score(y_test, pred))"
   ]
  },
  {
   "cell_type": "markdown",
   "id": "672861e2",
   "metadata": {},
   "source": [
    "#### Random Forest (SMOTE SVM)"
   ]
  },
  {
   "cell_type": "code",
   "execution_count": 22,
   "id": "78dce981",
   "metadata": {},
   "outputs": [
    {
     "name": "stdout",
     "output_type": "stream",
     "text": [
      "Classification report for oversampled SMOTE data:                precision    recall  f1-score   support\n",
      "\n",
      "           0       1.00      1.00      1.00    312775\n",
      "           1       0.70      0.80      0.75      1798\n",
      "\n",
      "    accuracy                           1.00    314573\n",
      "   macro avg       0.85      0.90      0.87    314573\n",
      "weighted avg       1.00      1.00      1.00    314573\n",
      "\n",
      "ROC AUC score for oversampled SMOTE data:  0.8978156637064834\n",
      "ROC AUC score for (baseline) data:  0.8639596220954037\n"
     ]
    }
   ],
   "source": [
    "model= RandomForestClassifier()\n",
    "clf_sm = model.fit(X_train_sm, y_train_sm)\n",
    "pred_sm = clf_sm.predict(X_test)\n",
    "\n",
    "print(\"Classification report for oversampled SMOTE data: \", classification_report(y_test, pred_sm))\n",
    "print(\"ROC AUC score for oversampled SMOTE data: \", roc_auc_score(y_test, pred_sm))\n",
    "print(\"ROC AUC score for (baseline) data: \", roc_auc_score(y_test, pred))"
   ]
  },
  {
   "cell_type": "markdown",
   "id": "6eb1814d",
   "metadata": {},
   "source": [
    "#### XGB Trees (SMOTE)"
   ]
  },
  {
   "cell_type": "code",
   "execution_count": 20,
   "id": "9d0b87ec",
   "metadata": {
    "scrolled": true
   },
   "outputs": [
    {
     "name": "stdout",
     "output_type": "stream",
     "text": [
      "Classification report for oversampled SMOTE data:                precision    recall  f1-score   support\n",
      "\n",
      "           0       1.00      0.99      1.00    312759\n",
      "           1       0.44      0.86      0.58      1814\n",
      "\n",
      "    accuracy                           0.99    314573\n",
      "   macro avg       0.72      0.93      0.79    314573\n",
      "weighted avg       1.00      0.99      0.99    314573\n",
      "\n",
      "ROC AUC score for oversampled SMOTE data:  0.9292739289033369\n",
      "ROC AUC score for (baseline) data:  0.9045235392699253\n"
     ]
    }
   ],
   "source": [
    "#how do you identify max_depth - XGBClassifier(max_depth = 4)\n",
    "from xgboost import XGBClassifier\n",
    "model = XGBClassifier()\n",
    "\n",
    "#using SMOTE for fitting\n",
    "clf_SMOTE = model.fit(X_train_SMOTE, y_train_SMOTE)\n",
    "pred_SMOTE = clf_SMOTE.predict(X_test)\n",
    "\n",
    "#baseline dataset for fitting\n",
    "clf = model.fit(X_train, y_train)\n",
    "pred= clf.predict(X_test)\n",
    "\n",
    "print(\"Classification report for oversampled SMOTE data: \", classification_report(y_test, pred_SMOTE))\n",
    "print(\"ROC AUC score for oversampled SMOTE data: \", roc_auc_score(y_test, pred_SMOTE))\n",
    "print(\"ROC AUC score for (baseline) data: \", roc_auc_score(y_test, pred))"
   ]
  },
  {
   "cell_type": "markdown",
   "id": "54a6db0a",
   "metadata": {},
   "source": [
    "#### XGB ADASYN"
   ]
  },
  {
   "cell_type": "code",
   "execution_count": 24,
   "id": "e48cb0df",
   "metadata": {},
   "outputs": [
    {
     "name": "stdout",
     "output_type": "stream",
     "text": [
      "Classification report for oversampled SMOTE data:                precision    recall  f1-score   support\n",
      "\n",
      "           0       1.00      0.99      1.00    312775\n",
      "           1       0.39      0.86      0.53      1798\n",
      "\n",
      "    accuracy                           0.99    314573\n",
      "   macro avg       0.69      0.93      0.77    314573\n",
      "weighted avg       1.00      0.99      0.99    314573\n",
      "\n",
      "ROC AUC score for oversampled SMOTE data:  0.9276677084788301\n",
      "ROC AUC score for (baseline) data:  0.9064669320141768\n"
     ]
    }
   ],
   "source": [
    "from xgboost import XGBClassifier\n",
    "xgb = XGBClassifier()\n",
    "\n",
    "#using SMOTE for fitting\n",
    "clf_ad = xgb.fit(X_train_ad, y_train_ad)\n",
    "pred_ad = clf_ad.predict(X_test)\n",
    "\n",
    "print(\"Classification report for oversampled SMOTE data: \", classification_report(y_test, pred_ad))\n",
    "print(\"ROC AUC score for oversampled SMOTE data: \", roc_auc_score(y_test, pred_ad))\n",
    "print(\"ROC AUC score for (baseline) data: \", roc_auc_score(y_test, pred))"
   ]
  },
  {
   "cell_type": "markdown",
   "id": "6df61c43",
   "metadata": {},
   "source": [
    "Since the models above are giving similar scores for SMOTE, Borderline SVM SMOTE and ADASYN, it could be good to go with naive SMOTE due to lesser compution time. Also, xgb gives better results than rf, so we cont with the model and aim to improve it. "
   ]
  },
  {
   "cell_type": "markdown",
   "id": "d5a36960",
   "metadata": {},
   "source": [
    "### Getting feature importance from xgb"
   ]
  },
  {
   "cell_type": "code",
   "execution_count": 25,
   "id": "453edd64",
   "metadata": {},
   "outputs": [
    {
     "data": {
      "image/png": "[encoded data removed]",
      "text/plain": [
       "<Figure size 432x288 with 1 Axes>"
      ]
     },
     "metadata": {
      "needs_background": "light"
     },
     "output_type": "display_data"
    }
   ],
   "source": [
    "#get feature importances from the model\n",
    "headers = [\"name\", \"score\"]\n",
    "values = sorted(zip(X_train.columns, xgb.feature_importances_), key=lambda x: x[1] * -1)\n",
    "xgb_feature_importances = pd.DataFrame(values, columns = headers)\n",
    "\n",
    "#plot feature importances\n",
    "x_pos = np.arange(0, len(xgb_feature_importances))\n",
    "plt.bar(x_pos, xgb_feature_importances['score'])\n",
    "plt.xticks(x_pos, xgb_feature_importances['name'])\n",
    "plt.xticks(rotation=90)\n",
    "plt.title('Feature importances (XGB)')\n",
    "\n",
    "plt.show()"
   ]
  },
  {
   "cell_type": "markdown",
   "id": "7f495198",
   "metadata": {},
   "source": [
    "The most important feature identified are amount transacted, category transacted for, gender of transactioner and transaction time taken"
   ]
  },
  {
   "cell_type": "markdown",
   "id": "2a4194eb",
   "metadata": {},
   "source": [
    "### Hyper Paramter Tuning for the best fit model - xgb"
   ]
  },
  {
   "cell_type": "code",
   "execution_count": 26,
   "id": "85d165bc",
   "metadata": {},
   "outputs": [],
   "source": [
    "#Initialize domain space for range of values\n",
    "from hyperopt import STATUS_OK, Trials, fmin, hp, tpe\n",
    "\n",
    "space={'max_depth': hp.quniform(\"max_depth\", 3, 18, 1),\n",
    "        'gamma': hp.uniform ('gamma', 1,9),\n",
    "        'reg_alpha' : hp.quniform('reg_alpha', 40,180,1),\n",
    "        'reg_lambda' : hp.uniform('reg_lambda', 0,1),\n",
    "        'colsample_bytree' : hp.uniform('colsample_bytree', 0.5,1),\n",
    "        'min_child_weight' : hp.quniform('min_child_weight', 0, 10, 1),\n",
    "        'n_estimators': 180,\n",
    "        'seed': 0\n",
    "    }"
   ]
  },
  {
   "cell_type": "code",
   "execution_count": 27,
   "id": "df3676f3",
   "metadata": {},
   "outputs": [],
   "source": [
    "# Define objective function\n",
    "\n",
    "def objective(space):\n",
    "    model=XGBClassifier(\n",
    "                    n_estimators =space['n_estimators'], max_depth = int(space['max_depth']), gamma = space['gamma'],\n",
    "                    reg_alpha = int(space['reg_alpha']),min_child_weight=int(space['min_child_weight']),\n",
    "                    colsample_bytree=int(space['colsample_bytree']))\n",
    "    \n",
    "      \n",
    "    model.fit(X_train_SMOTE, y_train_SMOTE)\n",
    "    pred = model.predict(X_test)\n",
    "    roc_auc = roc_auc_score(y_test, pred>0.5)\n",
    "    print (\"SCORE:\", roc_auc)\n",
    "    return {'loss': -roc_auc, 'status': STATUS_OK}"
   ]
  },
  {
   "cell_type": "code",
   "execution_count": 28,
   "id": "f001398a",
   "metadata": {},
   "outputs": [
    {
     "name": "stdout",
     "output_type": "stream",
     "text": [
      "SCORE:                                                                                                                 \n",
      "0.8718508535625469                                                                                                     \n",
      "SCORE:                                                                                                                 \n",
      "0.8735885928725324                                                                                                     \n",
      "SCORE:                                                                                                                 \n",
      "0.8779721889231359                                                                                                     \n",
      "SCORE:                                                                                                                 \n",
      "0.8721748887675175                                                                                                     \n",
      "SCORE:                                                                                                                 \n",
      "0.8743528129061775                                                                                                     \n",
      "SCORE:                                                                                                                 \n",
      "0.8733944100270739                                                                                                     \n",
      "SCORE:                                                                                                                 \n",
      "0.8749054469441754                                                                                                     \n",
      "SCORE:                                                                                                                 \n",
      "0.8719609511149655                                                                                                     \n",
      "SCORE:                                                                                                                 \n",
      "0.873425971129833                                                                                                      \n",
      "SCORE:                                                                                                                 \n",
      "0.8738036498959892                                                                                                     \n",
      "SCORE:                                                                                                                 \n",
      "0.8737424241306139                                                                                                     \n",
      "SCORE:                                                                                                                 \n",
      "0.8726824643479477                                                                                                     \n",
      "SCORE:                                                                                                                 \n",
      "0.8730963630759103                                                                                                     \n",
      "SCORE:                                                                                                                 \n",
      "0.8745525001402548                                                                                                     \n",
      "SCORE:                                                                                                                 \n",
      "0.8713600169781628                                                                                                     \n",
      "SCORE:                                                                                                                 \n",
      "0.8748432147229904                                                                                                     \n",
      "SCORE:                                                                                                                 \n",
      "0.8712645806062189                                                                                                     \n",
      "SCORE:                                                                                                                 \n",
      "0.8729324165813062                                                                                                     \n",
      "SCORE:                                                                                                                 \n",
      "0.8733178829326521                                                                                                     \n",
      "SCORE:                                                                                                                 \n",
      "0.8714197810709667                                                                                                     \n",
      "SCORE:                                                                                                                 \n",
      "0.8781287826001217                                                                                                     \n",
      "SCORE:                                                                                                                 \n",
      "0.8779578015839944                                                                                                     \n",
      "SCORE:                                                                                                                 \n",
      "0.8784037406370493                                                                                                     \n",
      "SCORE:                                                                                                                 \n",
      "0.8785203694830863                                                                                                     \n",
      "SCORE:                                                                                                                 \n",
      "0.8726035171362883                                                                                                     \n",
      "SCORE:                                                                                                                 \n",
      "0.8751020739124432                                                                                                     \n",
      "SCORE:                                                                                                                 \n",
      "0.872147644222139                                                                                                      \n",
      "SCORE:                                                                                                                 \n",
      "0.8744100884214105                                                                                                     \n",
      "SCORE:                                                                                                                 \n",
      "0.8724453248660645                                                                                                     \n",
      "SCORE:                                                                                                                 \n",
      "0.874469920974548                                                                                                      \n",
      "SCORE:                                                                                                                 \n",
      "0.8753243468328517                                                                                                     \n",
      "SCORE:                                                                                                                 \n",
      "0.8725376325118656                                                                                                     \n",
      "SCORE:                                                                                                                 \n",
      "0.8770819778705974                                                                                                     \n",
      "SCORE:                                                                                                                 \n",
      "0.8732662487267046                                                                                                     \n",
      "SCORE:                                                                                                                 \n",
      "0.8732171030983279                                                                                                     \n",
      "SCORE:                                                                                                                 \n",
      "0.8726464053123796                                                                                                     \n",
      "SCORE:                                                                                                                 \n",
      "0.8758101137961887                                                                                                     \n",
      "SCORE:                                                                                                                 \n",
      "0.8749538155033136                                                                                                     \n",
      "SCORE:                                                                                                                 \n",
      "0.8727307884523243                                                                                                     \n",
      "SCORE:                                                                                                                 \n",
      "0.8743963172252689                                                                                                     \n",
      "SCORE:                                                                                                                 \n",
      "0.8733930852751692                                                                                                     \n",
      "SCORE:                                                                                                                 \n",
      "0.873076563814055                                                                                                      \n",
      "SCORE:                                                                                                                 \n",
      "0.8786690386542158                                                                                                     \n",
      "SCORE:                                                                                                                 \n",
      "0.875476007809457                                                                                                      \n",
      "SCORE:                                                                                                                 \n",
      "0.8752975815098063                                                                                                     \n",
      "SCORE:                                                                                                                 \n",
      "0.8740786079329167                                                                                                     \n",
      "SCORE:                                                                                                                 \n",
      "0.8726323602749048                                                                                                     \n",
      "SCORE:                                                                                                                 \n",
      "0.8748417770559904                                                                                                     \n",
      "SCORE:                                                                                                                 \n",
      "0.8740316325860161                                                                                                     \n",
      "SCORE:                                                                                                                 \n",
      "0.8742142829771424                                                                                                     \n",
      "100%|███████████████████████████████████████████████| 50/50 [55:47<00:00, 66.94s/trial, best loss: -0.8786690386542158]\n"
     ]
    }
   ],
   "source": [
    "#optimisation\n",
    "\n",
    "trials = Trials()\n",
    "\n",
    "best_hyperparams = fmin(fn = objective,\n",
    "                        space = space,\n",
    "                        algo = tpe.suggest,\n",
    "                        max_evals = 50,\n",
    "                        trials = trials)"
   ]
  },
  {
   "cell_type": "code",
   "execution_count": 29,
   "id": "a29706b4",
   "metadata": {},
   "outputs": [
    {
     "name": "stdout",
     "output_type": "stream",
     "text": [
      "The best hyperparameters are :  \n",
      "\n",
      "{'colsample_bytree': 0.868387742357372, 'gamma': 5.687858426453555, 'max_depth': 3.0, 'min_child_weight': 10.0, 'reg_alpha': 151.0, 'reg_lambda': 0.9450231907635458}\n"
     ]
    }
   ],
   "source": [
    "#printing best hyperparameters \n",
    "print(\"The best hyperparameters are : \",\"\\n\")\n",
    "print(best_hyperparams)"
   ]
  },
  {
   "cell_type": "markdown",
   "id": "b4113dc2",
   "metadata": {},
   "source": [
    "### Final Model"
   ]
  },
  {
   "cell_type": "code",
   "execution_count": 21,
   "id": "f31494a6",
   "metadata": {
    "scrolled": true
   },
   "outputs": [
    {
     "name": "stdout",
     "output_type": "stream",
     "text": [
      "Classification report for oversampled SMOTE data:                precision    recall  f1-score   support\n",
      "\n",
      "           0       1.00      0.97      0.99    312759\n",
      "           1       0.16      0.89      0.28      1814\n",
      "\n",
      "    accuracy                           0.97    314573\n",
      "   macro avg       0.58      0.93      0.63    314573\n",
      "weighted avg       0.99      0.97      0.98    314573\n",
      "\n",
      "ROC AUC score for oversampled SMOTE data:  0.9319853522379703\n",
      "ROC AUC score for (baseline) data:  0.7657837378427067\n"
     ]
    }
   ],
   "source": [
    "from xgboost import XGBClassifier\n",
    "tuned = XGBClassifier(max_depth = 3, gamma = 5.68, reg_alpha = 151,min_child_weight=10,\n",
    "                    colsample_bytree=0.86)\n",
    "\n",
    "#using SMOTE for fitting\n",
    "clf_SMOTE = tuned.fit(X_train_SMOTE, y_train_SMOTE)\n",
    "pred_SMOTE = clf_SMOTE.predict(X_test)\n",
    "\n",
    "#baseline dataset for fitting\n",
    "clf = tuned.fit(X_train, y_train)\n",
    "pred= clf.predict(X_test)\n",
    "\n",
    "print(\"Classification report for oversampled SMOTE data: \", classification_report(y_test, pred_SMOTE))\n",
    "print(\"ROC AUC score for oversampled SMOTE data: \", roc_auc_score(y_test, pred_SMOTE))\n",
    "print(\"ROC AUC score for (baseline) data: \", roc_auc_score(y_test, pred))"
   ]
  },
  {
   "cell_type": "markdown",
   "id": "0e7b2334",
   "metadata": {},
   "source": [
    "##### END NOTE: XGB model post hyper-parameter tuning with the simple SMOTE over-sampling technique gives the best results with a ROC_AUC score of 93% as opposed to 76% from the baseline data"
   ]
  }
 ],
 "metadata": {
  "kernelspec": {
   "display_name": "Python 3",
   "language": "python",
   "name": "python3"
  },
  "language_info": {
   "codemirror_mode": {
    "name": "ipython",
    "version": 3
   },
   "file_extension": ".py",
   "mimetype": "text/x-python",
   "name": "python",
   "nbconvert_exporter": "python",
   "pygments_lexer": "ipython3",
   "version": "3.8.8"
  }
 },
 "nbformat": 4,
 "nbformat_minor": 5
}
